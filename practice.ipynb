{
 "cells": [
  {
   "cell_type": "code",
   "execution_count": 1,
   "metadata": {},
   "outputs": [],
   "source": [
    "from natto import MeCab"
   ]
  },
  {
   "cell_type": "code",
   "execution_count": 2,
   "metadata": {},
   "outputs": [],
   "source": [
    "mc = MeCab()"
   ]
  },
  {
   "cell_type": "code",
   "execution_count": 3,
   "metadata": {},
   "outputs": [
    {
     "name": "stdout",
     "output_type": "stream",
     "text": [
      "親譲り\t名詞,一般,*,*,*,*,親譲り,オヤユズリ,オヤユズリ\n",
      "の\t助詞,連体化,*,*,*,*,の,ノ,ノ\n",
      "無鉄砲\t名詞,一般,*,*,*,*,無鉄砲,ムテッポウ,ムテッポー\n",
      "で\t助詞,格助詞,一般,*,*,*,で,デ,デ\n",
      "子供\t名詞,一般,*,*,*,*,子供,コドモ,コドモ\n",
      "の\t助詞,連体化,*,*,*,*,の,ノ,ノ\n",
      "頃\t名詞,非自立,副詞可能,*,*,*,頃,コロ,コロ\n",
      "から\t助詞,格助詞,一般,*,*,*,から,カラ,カラ\n",
      "損\t名詞,一般,*,*,*,*,損,ソン,ソン\n",
      "ばかり\t助詞,副助詞,*,*,*,*,ばかり,バカリ,バカリ\n",
      "し\t動詞,自立,*,*,サ変・スル,連用形,する,シ,シ\n",
      "て\t助詞,接続助詞,*,*,*,*,て,テ,テ\n",
      "いる\t動詞,非自立,*,*,一段,基本形,いる,イル,イル\n",
      "。\t記号,句点,*,*,*,*,。,。,。\n",
      "EOS\n"
     ]
    }
   ],
   "source": [
    "text = \"親譲りの無鉄砲で子供の頃から損ばかりしている。\"\n",
    "print(mc.parse(text))"
   ]
  }
 ],
 "metadata": {
  "kernelspec": {
   "display_name": "Python 3",
   "language": "python",
   "name": "python3"
  },
  "language_info": {
   "codemirror_mode": {
    "name": "ipython",
    "version": 3
   },
   "file_extension": ".py",
   "mimetype": "text/x-python",
   "name": "python",
   "nbconvert_exporter": "python",
   "pygments_lexer": "ipython3",
   "version": "3.7.7"
  }
 },
 "nbformat": 4,
 "nbformat_minor": 2
}
